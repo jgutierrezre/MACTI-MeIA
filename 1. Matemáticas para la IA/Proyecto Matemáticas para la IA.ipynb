{
 "cells": [
  {
   "cell_type": "markdown",
   "id": "2181821f-4188-49c4-9be0-2a604534da9d",
   "metadata": {},
   "source": [
    "[![Open In Colab](https://colab.research.google.com/assets/colab-badge.svg)](https://colab.research.google.com/github/ivanvladimir/Proyectos-MeIA/blob/main/Proyecto%20Matem%C3%A1ticas%20para%20la%20IA.ipynb)\n",
    "[![Kaggle](https://kaggle.com/static/images/open-in-kaggle.svg)](https://kaggle.com/kernels/welcome?src=https://github.com/ivanvladimir/Proyectos-MeIA/blob/main/Proyecto%20Matem%C3%A1ticas%20para%20la%20IA.ipynb)\n",
    "\n",
    "# Matemáticas para la IA\n",
    "\n",
    "Esta notebook especifica el proyecto para la sesión de \"Matemáticas para la IA\" del grupo 3 de [Macroentrenamiento en Inteligencia Artificial](https://www.taller-tic.redmacro.unam.mx/)\n",
    "\n",
    "## Instrucciones\n",
    "\n",
    "## Licencia de la notebook\n",
    "\n",
    "<a rel=\"license\" href=\"http://creativecommons.org/licenses/by/4.0/\"><img alt=\"Creative Commons License\" style=\"border-width:0\" src=\"https://i.creativecommons.org/l/by/4.0/80x15.png\" /></a>\n",
    "</br>This work is licensed under a <a rel=\"license\" href=\"http://creativecommons.org/licenses/by/4.0/\">Creative Commons Attribution 4.0 International License</a>.\n",
    "\n",
    "## General information\n",
    "\n",
    "> **Author(s)**: <a href=\"https://twitter.com/ivanvladimir\">@ivanvladimir</a></br> > **Last updated**: 11/06/2023\n"
   ]
  },
  {
   "cell_type": "markdown",
   "id": "cfcd62f7-0e0f-44de-a06f-ffc5369e4ced",
   "metadata": {},
   "source": [
    "# 1 Instalar librerías necesarias\n",
    "\n",
    "Posicionarse en la celda de abajo y ejecutarla haciendo click en el ícono de play (⏵︎)\n"
   ]
  },
  {
   "cell_type": "code",
   "execution_count": 1,
   "id": "735c3217-3646-4287-b069-ee13a68c978f",
   "metadata": {},
   "outputs": [
    {
     "name": "stdout",
     "output_type": "stream",
     "text": [
      "Requirement already satisfied: jupyterlab_widgets in /opt/conda/lib/python3.10/site-packages (3.0.7)\n",
      "Note: you may need to restart the kernel to use updated packages.\n",
      "Requirement already satisfied: ipywidgets in /opt/conda/lib/python3.10/site-packages (8.0.6)\n",
      "Requirement already satisfied: ipykernel>=4.5.1 in /home/test/.local/lib/python3.10/site-packages (from ipywidgets) (6.23.0)\n",
      "Requirement already satisfied: ipython>=6.1.0 in /home/test/.local/lib/python3.10/site-packages (from ipywidgets) (8.13.2)\n",
      "Requirement already satisfied: traitlets>=4.3.1 in /home/test/.local/lib/python3.10/site-packages (from ipywidgets) (5.9.0)\n",
      "Requirement already satisfied: widgetsnbextension~=4.0.7 in /opt/conda/lib/python3.10/site-packages (from ipywidgets) (4.0.7)\n",
      "Requirement already satisfied: jupyterlab-widgets~=3.0.7 in /opt/conda/lib/python3.10/site-packages (from ipywidgets) (3.0.7)\n",
      "Requirement already satisfied: comm>=0.1.1 in /home/test/.local/lib/python3.10/site-packages (from ipykernel>=4.5.1->ipywidgets) (0.1.3)\n",
      "Requirement already satisfied: debugpy>=1.6.5 in /home/test/.local/lib/python3.10/site-packages (from ipykernel>=4.5.1->ipywidgets) (1.6.7)\n",
      "Requirement already satisfied: jupyter-client>=6.1.12 in /home/test/.local/lib/python3.10/site-packages (from ipykernel>=4.5.1->ipywidgets) (8.2.0)\n",
      "Requirement already satisfied: jupyter-core!=5.0.*,>=4.12 in /home/test/.local/lib/python3.10/site-packages (from ipykernel>=4.5.1->ipywidgets) (5.3.0)\n",
      "Requirement already satisfied: matplotlib-inline>=0.1 in /home/test/.local/lib/python3.10/site-packages (from ipykernel>=4.5.1->ipywidgets) (0.1.6)\n",
      "Requirement already satisfied: nest-asyncio in /home/test/.local/lib/python3.10/site-packages (from ipykernel>=4.5.1->ipywidgets) (1.5.6)\n",
      "Requirement already satisfied: packaging in /home/test/.local/lib/python3.10/site-packages (from ipykernel>=4.5.1->ipywidgets) (23.1)\n",
      "Requirement already satisfied: psutil in /home/test/.local/lib/python3.10/site-packages (from ipykernel>=4.5.1->ipywidgets) (5.9.5)\n",
      "Requirement already satisfied: pyzmq>=20 in /home/test/.local/lib/python3.10/site-packages (from ipykernel>=4.5.1->ipywidgets) (25.0.2)\n",
      "Requirement already satisfied: tornado>=6.1 in /home/test/.local/lib/python3.10/site-packages (from ipykernel>=4.5.1->ipywidgets) (6.3.2)\n",
      "Requirement already satisfied: backcall in /home/test/.local/lib/python3.10/site-packages (from ipython>=6.1.0->ipywidgets) (0.2.0)\n",
      "Requirement already satisfied: decorator in /home/test/.local/lib/python3.10/site-packages (from ipython>=6.1.0->ipywidgets) (5.1.1)\n",
      "Requirement already satisfied: jedi>=0.16 in /home/test/.local/lib/python3.10/site-packages (from ipython>=6.1.0->ipywidgets) (0.18.2)\n",
      "Requirement already satisfied: pickleshare in /home/test/.local/lib/python3.10/site-packages (from ipython>=6.1.0->ipywidgets) (0.7.5)\n",
      "Requirement already satisfied: prompt-toolkit!=3.0.37,<3.1.0,>=3.0.30 in /home/test/.local/lib/python3.10/site-packages (from ipython>=6.1.0->ipywidgets) (3.0.38)\n",
      "Requirement already satisfied: pygments>=2.4.0 in /home/test/.local/lib/python3.10/site-packages (from ipython>=6.1.0->ipywidgets) (2.15.1)\n",
      "Requirement already satisfied: stack-data in /home/test/.local/lib/python3.10/site-packages (from ipython>=6.1.0->ipywidgets) (0.6.2)\n",
      "Requirement already satisfied: pexpect>4.3 in /opt/conda/lib/python3.10/site-packages (from ipython>=6.1.0->ipywidgets) (4.8.0)\n",
      "Requirement already satisfied: parso<0.9.0,>=0.8.0 in /home/test/.local/lib/python3.10/site-packages (from jedi>=0.16->ipython>=6.1.0->ipywidgets) (0.8.3)\n",
      "Requirement already satisfied: python-dateutil>=2.8.2 in /home/test/.local/lib/python3.10/site-packages (from jupyter-client>=6.1.12->ipykernel>=4.5.1->ipywidgets) (2.8.2)\n",
      "Requirement already satisfied: platformdirs>=2.5 in /home/test/.local/lib/python3.10/site-packages (from jupyter-core!=5.0.*,>=4.12->ipykernel>=4.5.1->ipywidgets) (3.5.1)\n",
      "Requirement already satisfied: ptyprocess>=0.5 in /opt/conda/lib/python3.10/site-packages (from pexpect>4.3->ipython>=6.1.0->ipywidgets) (0.7.0)\n",
      "Requirement already satisfied: wcwidth in /home/test/.local/lib/python3.10/site-packages (from prompt-toolkit!=3.0.37,<3.1.0,>=3.0.30->ipython>=6.1.0->ipywidgets) (0.2.6)\n",
      "Requirement already satisfied: executing>=1.2.0 in /home/test/.local/lib/python3.10/site-packages (from stack-data->ipython>=6.1.0->ipywidgets) (1.2.0)\n",
      "Requirement already satisfied: asttokens>=2.1.0 in /home/test/.local/lib/python3.10/site-packages (from stack-data->ipython>=6.1.0->ipywidgets) (2.2.1)\n",
      "Requirement already satisfied: pure-eval in /home/test/.local/lib/python3.10/site-packages (from stack-data->ipython>=6.1.0->ipywidgets) (0.2.2)\n",
      "Requirement already satisfied: six in /opt/conda/lib/python3.10/site-packages (from asttokens>=2.1.0->stack-data->ipython>=6.1.0->ipywidgets) (1.16.0)\n",
      "Note: you may need to restart the kernel to use updated packages.\n",
      "Requirement already satisfied: numpy in /home/test/.local/lib/python3.10/site-packages (1.24.3)\n",
      "Note: you may need to restart the kernel to use updated packages.\n",
      "Requirement already satisfied: matplotlib in /home/test/.local/lib/python3.10/site-packages (3.7.1)\n",
      "Requirement already satisfied: contourpy>=1.0.1 in /home/test/.local/lib/python3.10/site-packages (from matplotlib) (1.0.7)\n",
      "Requirement already satisfied: cycler>=0.10 in /home/test/.local/lib/python3.10/site-packages (from matplotlib) (0.11.0)\n",
      "Requirement already satisfied: fonttools>=4.22.0 in /home/test/.local/lib/python3.10/site-packages (from matplotlib) (4.39.4)\n",
      "Requirement already satisfied: kiwisolver>=1.0.1 in /home/test/.local/lib/python3.10/site-packages (from matplotlib) (1.4.4)\n",
      "Requirement already satisfied: numpy>=1.20 in /home/test/.local/lib/python3.10/site-packages (from matplotlib) (1.24.3)\n",
      "Requirement already satisfied: packaging>=20.0 in /home/test/.local/lib/python3.10/site-packages (from matplotlib) (23.1)\n",
      "Requirement already satisfied: pillow>=6.2.0 in /home/test/.local/lib/python3.10/site-packages (from matplotlib) (9.5.0)\n",
      "Requirement already satisfied: pyparsing>=2.3.1 in /home/test/.local/lib/python3.10/site-packages (from matplotlib) (3.0.9)\n",
      "Requirement already satisfied: python-dateutil>=2.7 in /home/test/.local/lib/python3.10/site-packages (from matplotlib) (2.8.2)\n",
      "Requirement already satisfied: six>=1.5 in /opt/conda/lib/python3.10/site-packages (from python-dateutil>=2.7->matplotlib) (1.16.0)\n",
      "Note: you may need to restart the kernel to use updated packages.\n"
     ]
    }
   ],
   "source": [
    "%pip install jupyterlab_widgets\n",
    "%pip install ipywidgets\n",
    "%pip install numpy\n",
    "%pip install matplotlib\n",
    "\n",
    "import ipywidgets as widgets\n",
    "from IPython.display import display\n",
    "import numpy as np\n",
    "from math import pi, sin, cos\n",
    "import matplotlib.pyplot as plt"
   ]
  },
  {
   "cell_type": "markdown",
   "id": "eed27a27-efc2-49aa-8ea2-34887fdfe944",
   "metadata": {},
   "source": [
    "# 2 Llenar con coordenadas en el siguiente cuadro\n",
    "\n",
    "Hacer click en la siguiente celda, y llenar en el cuadro con coordenadas con un dibujo interesante.\n",
    "\n",
    "Las coordenadas siguen el siguiente formato, por cada línea dos números son separados por coma:\n",
    "\n",
    "    0,0\n",
    "    0.5,0.5\n",
    "    0.5,1.5\n",
    "    0,1\n",
    "    0,0\n"
   ]
  },
  {
   "cell_type": "code",
   "execution_count": 10,
   "id": "dbbd7b86-cbfa-48ec-a2f9-eabc332fa58a",
   "metadata": {
    "scrolled": true
   },
   "outputs": [
    {
     "data": {
      "application/vnd.jupyter.widget-view+json": {
       "model_id": "ad1b2781ff054e8faed199d45e505480",
       "version_major": 2,
       "version_minor": 0
      },
      "text/plain": [
       "Textarea(value='0,0\\n0.5,0.5\\n0.5,1.5\\n0,1\\n0,0', description='Aquí poner las coordenadas', layout=Layout(heig…"
      ]
     },
     "metadata": {},
     "output_type": "display_data"
    }
   ],
   "source": [
    "def plot_coordinate(x, y, x_LT1, y_LT1):\n",
    "    # Create the figure and axes objects\n",
    "    fig, ax = plt.subplots()\n",
    "\n",
    "    # Plot the points.  x and y are original vectors, x_LT1 and y_LT1 are images\n",
    "    ax.plot(x, y, \"ro\")\n",
    "    ax.plot(x_LT1, y_LT1, \"bo\")\n",
    "\n",
    "    # Connect the points by lines\n",
    "    ax.plot(x, y, \"r\", ls=\"--\")\n",
    "    ax.plot(x_LT1, y_LT1, \"b\")\n",
    "\n",
    "    # Edit some settings\n",
    "    ax.axvline(x=0, color=\"k\", ls=\":\")\n",
    "    ax.axhline(y=0, color=\"k\", ls=\":\")\n",
    "    ax.grid(True)\n",
    "    ax.axis([-5, 5, -5, 5])\n",
    "    ax.set_aspect(\"equal\")\n",
    "    ax.set_title(\"Transformación\")\n",
    "    return plt\n",
    "\n",
    "\n",
    "coordenadas = widgets.Textarea(\n",
    "    value=\"0,0\\n0.5,0.5\\n0.5,1.5\\n0,1\\n0,0\",\n",
    "    placeholder=\"0,0\\n0.5,0.5\\n0.5,1.5\\n0,1\\n0,0\",\n",
    "    description=\"Aquí poner las coordenadas\",\n",
    "    disabled=False,\n",
    "    rows=20,\n",
    "    layout=widgets.Layout(height=\"300\", width=\"auto\"),\n",
    ")\n",
    "display(coordenadas)\n"
   ]
  },
  {
   "cell_type": "markdown",
   "id": "4a7d1ea7-b299-41be-92a5-25614ab8e9b8",
   "metadata": {},
   "source": [
    "# Crear matriz de transformación\n",
    "\n",
    "Con la ayuda de la página https://web.ma.utexas.edu/users/ysulyma/matrix/ llena los valores de la matriz de transformación para tu dibujo; comparte tu figura en el foro\n"
   ]
  },
  {
   "cell_type": "code",
   "execution_count": 11,
   "id": "bae49f00-52cf-4e7c-a48c-70f89ecfe5e0",
   "metadata": {},
   "outputs": [
    {
     "data": {
      "application/vnd.jupyter.widget-view+json": {
       "model_id": "46e4c78145b0442185c3d5c8b965e3b1",
       "version_major": 2,
       "version_minor": 0
      },
      "text/plain": [
       "interactive(children=(FloatText(value=2.0, description='a_11', step=0.1), FloatText(value=0.0, description='a_…"
      ]
     },
     "metadata": {},
     "output_type": "display_data"
    },
    {
     "data": {
      "text/plain": [
       "<function __main__.transform(a_11=2, a_12=0, a_21=0, a_22=1)>"
      ]
     },
     "execution_count": 11,
     "metadata": {},
     "output_type": "execute_result"
    }
   ],
   "source": [
    "l = []\n",
    "for line in coordenadas.value.splitlines():\n",
    "    if len(line.strip()) > 0:\n",
    "        l.append([float(x) for x in line.split(\",\")])\n",
    "\n",
    "coords = np.array(l)\n",
    "coords = coords.transpose()\n",
    "\n",
    "\n",
    "def transform(a_11=2, a_12=0, a_21=0, a_22=1):\n",
    "    global coords\n",
    "    A = np.array([[a_11, a_12], [a_21, a_22]])\n",
    "\n",
    "    x = coords[0, :]\n",
    "    y = coords[1, :]\n",
    "\n",
    "    A_coords = A @ coords\n",
    "\n",
    "    x_LT1 = A_coords[0, :]\n",
    "    y_LT1 = A_coords[1, :]\n",
    "\n",
    "    plot_coordinate(x, y, x_LT1, y_LT1)\n",
    "\n",
    "\n",
    "widgets.interact(\n",
    "    transform,\n",
    "    a_11=widgets.FloatText(min=-4, max=4, step=0.1, value=2),\n",
    "    a_12=widgets.FloatText(min=-4, max=4, step=0.1, value=0),\n",
    "    a_21=widgets.FloatText(min=-4, max=4, step=0.1, value=0),\n",
    "    a_22=widgets.FloatText(min=-4, max=4, step=0.1, value=1),\n",
    ")\n"
   ]
  }
 ],
 "metadata": {
  "kernelspec": {
   "display_name": "Python 3 (ipykernel)",
   "language": "python",
   "name": "python3"
  },
  "language_info": {
   "codemirror_mode": {
    "name": "ipython",
    "version": 3
   },
   "file_extension": ".py",
   "mimetype": "text/x-python",
   "name": "python",
   "nbconvert_exporter": "python",
   "pygments_lexer": "ipython3",
   "version": "3.10.11"
  }
 },
 "nbformat": 4,
 "nbformat_minor": 5
}
